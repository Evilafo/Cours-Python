{
 "cells": [
  {
   "cell_type": "markdown",
   "metadata": {},
   "source": [
    "## Exercices "
   ]
  },
  {
   "cell_type": "markdown",
   "metadata": {},
   "source": [
    "#### Exercice 1 - Manipulations de vecteurs\n",
    "\n",
    "On donne :\n",
    "$$\n",
    "u1 = \n",
    "\\begin{bmatrix}\n",
    "1 \\\\\n",
    "2 \\\\\n",
    "3\n",
    "\\end{bmatrix}\n",
    "\n",
    "u2 = \n",
    "\\begin{bmatrix}\n",
    "-5 \\\\\n",
    "2 \\\\\n",
    "1\n",
    "\\end{bmatrix}\n",
    "\n",
    "u3 = \n",
    "\\begin{bmatrix}\n",
    "-1 \\\\\n",
    "-3 \\\\\n",
    "7\n",
    "\\end{bmatrix}\n",
    "$$\n",
    "\n",
    "1. Définir ces vecteur.\n",
    "2. Calculer u<sub>1</sub> + u<sub>2</sub>,u<sub>1</sub> + 3u<sub>2</sub> − 5u<sub>3</sub>,u<sub>3</sub>/5\n",
    "3. Calculer le produit des compansantes des vecteur u<sub>1</sub> et u<sub>2</sub>, terme à terme.\n",
    "4. Calculer les produits u<sup>T</sup><sub>1</sub> u<sub>2</sub> et u<sub>1</sub> u<sup>T</sup><sub>2</sub>.\n",
    "5. Crée par concaténation la matrice :\n",
    "$$\n",
    "\\begin{bmatrix}\n",
    "1 & -5 &-1 \\\\\n",
    "2 & 2 &-3 \\\\\n",
    "3 & 1 & 7\n",
    "\\end{bmatrix}\n",
    "$$\n"
   ]
  },
  {
   "cell_type": "code",
   "execution_count": null,
   "metadata": {},
   "outputs": [],
   "source": []
  },
  {
   "cell_type": "markdown",
   "metadata": {},
   "source": [
    "#### Exercice 2 - Opérations matricielles\n",
    "\n",
    "Soit le vecteur \n",
    "$$\n",
    "u = \n",
    "\\begin{bmatrix}\n",
    "1 \\\\\n",
    "2 \\\\\n",
    "-5 \\\\\n",
    "2 \\\\\n",
    "-1 \\\\\n",
    "-3\n",
    "\\end{bmatrix}\n",
    "$$\n",
    "\n",
    "1. Calculer la somme des composantes du vecteur u sans utiliser la fonction <code>sum</code> de <code>numpy</code>\n",
    "2. Calculer le produit des composantes du vecteur u sans utiliser la fonction <code>prod</code> de <code>numpy</code>"
   ]
  },
  {
   "cell_type": "code",
   "execution_count": null,
   "metadata": {},
   "outputs": [],
   "source": []
  },
  {
   "cell_type": "markdown",
   "metadata": {},
   "source": [
    "#### Exercice 3\n",
    "\n",
    "Considérons le vecteur suivant : \n",
    "$$\n",
    "x = \n",
    "\\begin{bmatrix}\n",
    "1 & 2 & 3 & 4 & 5\n",
    "\\end{bmatrix}\n",
    "$$\n",
    "\n",
    "1. Créer ce vecteur à l’aide d’un tableau que l’on appellera x.\n",
    "2. Afficher le type de x puis sa longueur.\n",
    "3. Extraire le premier élément, puis en faire de même avec le dernier.\n",
    "4. Extraire les trois premiers éléments et les stocker dans un vecteur que l’on nommera a.\n",
    "5. Extraire les 1er, 2e et 5e éléments du vecteur (attention aux positions) ; les stocker dans un vecteur que l’on nommera b.\n",
    "6. Additionner le nombre 10 au vecteur x, puis multiplier le résultat par 2.\n",
    "7. Effectuer l’addition de a et b, commenter le résultat.\n",
    "8. Effectuer l’addition suivante : x+a ; commenter le résultat, puis regarder le résultat de a+x.\n",
    "9. Multiplier le vecteur par le scalaire c que l’on fixera à 2.\n",
    "10. Effectuer la multiplication de a et b ; commenter le résultat.\n",
    "11. Effectier la multiplication suivante : x*a ; commenter le résultats.\n",
    "12. Récupérer les positions des multiples de 2 et les stocker dans un vecteur que l’on nommera ind, piuis conserver uniquement les multiples de 2 de x dans un vecteur que l’on nommera mult_2.\n",
    "13. Afficher les éléments de x qui sont multiples de 3 et multiples de 2.\n",
    "14. Afficher les éléments de x qui sont multiples de 3 ou multiples de 2.\n",
    "15. Calculer la somme des éléments de x.\n",
    "16. Remplacer le premier élément de x par un 4.\n",
    "17. Remplacer le premier élément de x par la valeur NaN, puis calculer la somme des éléments de x. \n",
    "18. Supprimer le vecteur x."
   ]
  },
  {
   "cell_type": "code",
   "execution_count": null,
   "metadata": {},
   "outputs": [],
   "source": []
  },
  {
   "cell_type": "markdown",
   "metadata": {},
   "source": [
    "#### Exercice 4\n",
    "\n",
    "1. Créer la matrice suivante : \n",
    "$$ A = \\begin{bmatrix} -3 & 5 & 6 \\\\ -1 & 2 & 2 \\\\ 1 & -1 & -1 \\end{bmatrix} $$\n",
    "2. Afficher la dimension de A, son nombre de colonnes, son nombre de lignes et sa longueur.\n",
    "3. Extraire la seconde colonne de A, puis la première ligne. 4.Extraire l’élément en troisième position à la première ligne.\n",
    "4. Extraire la sous-matrice de dimension du coin inférieur de A, c’est-à-dire $$ \\begin{bmatrix} 2 & 2 \\\\ -1 & -1 \\end{bmatrix} $$\n",
    "5. Calculer la somme des colonnes puis des lignes de A.\n",
    "6. Afficher la diagonale de A.\n",
    "7. Rajouter le vecteur $$ \\begin{bmatrix} 1 & 2 & 3\\end{bmatrix}^\\top $$ à droite de la matrice A et stocker le résultat dans un objet appelé B.\n",
    "8. Retirer le quatrième vecteur de B.\n",
    "9. Retirer la première et la troisième ligne de B.\n",
    "10. Ajouter le scalaire 10 à A.\n",
    "11. Ajouter le vecteur $$ \\begin{bmatrix} 1 & 2 & 3\\end{bmatrix}^\\top $$ à A.\n",
    "12. Ajouter la matrice identité \\(I_3\\) à A.\n",
    "13. Diviser tous les éléments de la matrice A par 2.\n",
    "14. Multiplier la matrice A par le vecteur ligne $$ \\begin{bmatrix} 1 & 2 & 3\\end{bmatrix}^\\top $$\n",
    "15. Afficher la transposée de A.\n",
    "16. Effectuer le produit avec transposition $$ A^\\top A $$"
   ]
  },
  {
   "cell_type": "markdown",
   "metadata": {},
   "source": []
  },
  {
   "cell_type": "markdown",
   "metadata": {},
   "source": [
    "### Exercice de Statistique\n",
    "Contexte : Une entreprise souhaite analyser les performances de ses vendeurs. Elle a collecté les données suivantes concernant les ventes réalisées par 10 vendeurs au cours d'un mois :\n",
    "\n",
    "Vendeur 1 : 2000 €\n",
    "Vendeur 2 : 2500 €\n",
    "Vendeur 3 : 3000 €\n",
    "Vendeur 4 : 1500 €\n",
    "Vendeur 5 : 4000 €\n",
    "Vendeur 6 : 3500 €\n",
    "Vendeur 7 : 3000 €\n",
    "Vendeur 8 : 4500 €\n",
    "Vendeur 9 : 5000 €\n",
    "Vendeur 10 : 1000 €\n",
    "Questions :\n",
    "\n",
    "Calculez la moyenne des ventes.\n",
    "Calculez la médiane des ventes.\n",
    "Calculez l'écart-type des ventes.\n",
    "Représentez graphiquement la distribution des ventes."
   ]
  }
 ],
 "metadata": {
  "kernelspec": {
   "display_name": "Python 3",
   "language": "python",
   "name": "python3"
  },
  "language_info": {
   "name": "python",
   "version": "3.11.7"
  }
 },
 "nbformat": 4,
 "nbformat_minor": 2
}
