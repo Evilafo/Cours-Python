{
  "cells": [
    {
      "cell_type": "markdown",
      "metadata": {
        "colab_type": "text",
        "id": "zZAigZmjo-Eu"
      },
      "source": [
        "# Structure de données (Listes et Tuples)\n",
        "\n",
        "Une structure de données est une variable capable de contenir plusieurs valeurs a la fois. Une structure de données peut former une **séquence** si les valeurs qui la composent sont rangées dans un certains ordre. C'est le cas des **listes** et des **tuples**. A l'inverse un **Dictionnaire** ne forme pas une séquence."
      ]
    },
    {
      "cell_type": "markdown",
      "metadata": {
        "colab_type": "text",
        "id": "GYmh0u3Gp2vR"
      },
      "source": [
        "## 1. Création de Listes et de Tuples\n",
        "une liste ou un tuple peuvent contenir tout types de valeurs (int, float, bool, string). On dit que ce sont des structures hétérogenes.\n",
        "\n",
        "La différence entre les 2 est qu'une liste est **mutable** alors qu'un Tuple ne l'est pas (on ne peut pas le changer apres qu'il soit crée)"
      ]
    },
    {
      "cell_type": "code",
      "execution_count": 1,
      "metadata": {
        "colab": {},
        "colab_type": "code",
        "id": "lMrHIDBro9Ul"
      },
      "outputs": [],
      "source": [
        "# Listes\n",
        "liste_1 = [1, 4, 2, 7, 35, 84]\n",
        "villes = ['Abidjan', 'Bouaké', 'Yamoussoukro', 'Assinie']\n",
        "nested_list = [liste_1, villes] # une liste peut meme contenir des listes ! On appelle cela une nested list\n",
        "\n",
        "#Tuples\n",
        "tuple_1 = (1, 2, 6, 2)"
      ]
    },
    {
      "cell_type": "code",
      "execution_count": 2,
      "metadata": {
        "colab": {
          "base_uri": "https://localhost:8080/",
          "height": 34
        },
        "colab_type": "code",
        "id": "6fmme6vsq9mp",
        "outputId": "9eb5c9e1-ecef-4560-8e22-318e683a3d9d"
      },
      "outputs": [
        {
          "name": "stdout",
          "output_type": "stream",
          "text": [
            "['Abidjan', 'Bouaké', 'Yamoussoukro', 'Assinie']\n"
          ]
        }
      ],
      "source": [
        "print(villes)"
      ]
    },
    {
      "cell_type": "markdown",
      "metadata": {
        "colab_type": "text",
        "id": "if5Og4U5rFJT"
      },
      "source": [
        "## 2. Indexing et Slicing\n",
        "Dans une séquence, chaque élément est rangé selon un **index** (le premier index étant l'index 0)\n",
        "\n",
        "Pour acceder a un élément d'une liste ou d'un tuple, on utilise une technique appelée **Indexing**\n",
        "\n",
        "Pour acceder a plusieurs éléments d'une liste ou d'un tuple, on utilie une technique appelée **Slicing**"
      ]
    },
    {
      "cell_type": "code",
      "execution_count": 3,
      "metadata": {
        "colab": {
          "base_uri": "https://localhost:8080/",
          "height": 85
        },
        "colab_type": "code",
        "id": "J1EuMMrSq_X2",
        "outputId": "a642c0a2-9906-4478-f0e1-3c766f32dbd8"
      },
      "outputs": [
        {
          "name": "stdout",
          "output_type": "stream",
          "text": [
            "séquence complete: ['Abidjan', 'Bouaké', 'Yamoussoukro', 'Assinie']\n",
            "index 0: Abidjan\n",
            "index 1: Bouaké\n",
            "dernier index (-1): Assinie\n"
          ]
        }
      ],
      "source": [
        "# INDEXING\n",
        "\n",
        "print('séquence complete:', villes)\n",
        "print('index 0:', villes[0])\n",
        "print('index 1:', villes[1])\n",
        "print('dernier index (-1):', villes[-1])"
      ]
    },
    {
      "cell_type": "code",
      "execution_count": 4,
      "metadata": {
        "colab": {
          "base_uri": "https://localhost:8080/",
          "height": 85
        },
        "colab_type": "code",
        "id": "8rmbVqLNsHIy",
        "outputId": "39855646-5c98-4c97-cac4-fec5c2b9428d"
      },
      "outputs": [
        {
          "name": "stdout",
          "output_type": "stream",
          "text": [
            "séquence complete: ['Abidjan', 'Bouaké', 'Yamoussoukro', 'Assinie']\n",
            "index 0-2: ['Abidjan', 'Bouaké', 'Yamoussoukro']\n",
            "index 1-2: ['Bouaké', 'Yamoussoukro']\n",
            "ordre inverse: ['Assinie', 'Yamoussoukro', 'Bouaké', 'Abidjan']\n"
          ]
        }
      ],
      "source": [
        "# SLICING [début (inclus) : fin (exclus) : pas]\n",
        "\n",
        "print('séquence complete:', villes)\n",
        "print('index 0-2:', villes[0:3])\n",
        "print('index 1-2:', villes[1:3])\n",
        "print('ordre inverse:', villes[::-1])"
      ]
    },
    {
      "cell_type": "markdown",
      "metadata": {
        "colab_type": "text",
        "id": "9i0rLn2TtUwd"
      },
      "source": [
        "## 3. Actions utiles sur les listes"
      ]
    },
    {
      "cell_type": "code",
      "execution_count": 5,
      "metadata": {
        "colab": {
          "base_uri": "https://localhost:8080/",
          "height": 136
        },
        "colab_type": "code",
        "id": "8zJbTtPytH3G",
        "outputId": "4ef03019-4ace-4717-e729-197d308a2bd8"
      },
      "outputs": [
        {
          "name": "stdout",
          "output_type": "stream",
          "text": [
            "['Abidjan', 'Bouaké', 'Yamoussoukro', 'Assinie']\n",
            "['Abidjan', 'Bouaké', 'Yamoussoukro', 'Assinie', 'Agnibilékro']\n",
            "['Abidjan', 'Bouaké', 'San-Pedro', 'Yamoussoukro', 'Assinie', 'Agnibilékro']\n",
            "['Abidjan', 'Bouaké', 'San-Pedro', 'Yamoussoukro', 'Assinie', 'Agnibilékro', 'Man', 'Danané']\n",
            "longeur de la liste: 8\n",
            "['Abidjan', 'Agnibilékro', 'Assinie', 'Bouaké', 'Danané', 'Man', 'San-Pedro', 'Yamoussoukro']\n",
            "1\n"
          ]
        }
      ],
      "source": [
        "villes = ['Abidjan', 'Bouaké', 'Yamoussoukro', 'Assinie'] # liste initiale\n",
        "print(villes)\n",
        "\n",
        "villes.append('Agnibilékro') # Rajoute un élément a la fin de la liste\n",
        "print(villes)\n",
        "\n",
        "villes.insert(2, 'San-Pedro') # Rajoute un élément a l'index indiqué\n",
        "print(villes)\n",
        "\n",
        "villes.extend(['Man', 'Danané']) # Rajoute une liste a la fin de notre liste\n",
        "print(villes)\n",
        "\n",
        "print('longeur de la liste:', len(villes)) #affiche la longueur de la liste\n",
        "\n",
        "villes.sort(reverse=False) # trie la liste par ordre alphabétique / numérique\n",
        "print(villes)\n",
        "\n",
        "print(villes.count('Abidjan')) # compte le nombre de fois qu'un élément apparait dans la liste"
      ]
    },
    {
      "cell_type": "markdown",
      "metadata": {
        "colab_type": "text",
        "id": "mUhBRJwqvg1p"
      },
      "source": [
        "Les listes et les tuples fonctionnent en harmonies avec les structures de controle **if/else** et **For**"
      ]
    },
    {
      "cell_type": "code",
      "execution_count": 6,
      "metadata": {
        "colab": {
          "base_uri": "https://localhost:8080/",
          "height": 34
        },
        "colab_type": "code",
        "id": "XjHrv7HjuFCE",
        "outputId": "117ddbc4-cfa8-4de5-bdc2-6e8417604a5c"
      },
      "outputs": [
        {
          "name": "stdout",
          "output_type": "stream",
          "text": [
            "oui\n"
          ]
        }
      ],
      "source": [
        "if 'Abidjan' in villes:\n",
        "  print('oui')\n",
        "else:\n",
        "  print('non')"
      ]
    },
    {
      "cell_type": "code",
      "execution_count": 7,
      "metadata": {
        "colab": {
          "base_uri": "https://localhost:8080/",
          "height": 153
        },
        "colab_type": "code",
        "id": "HHSiF8g5vyEh",
        "outputId": "34f919cf-1d0e-43cb-9bc4-19281d9d8872"
      },
      "outputs": [
        {
          "name": "stdout",
          "output_type": "stream",
          "text": [
            "Abidjan\n",
            "Agnibilékro\n",
            "Assinie\n",
            "Bouaké\n",
            "Danané\n",
            "Man\n",
            "San-Pedro\n",
            "Yamoussoukro\n"
          ]
        }
      ],
      "source": [
        "for element in villes:\n",
        "  print(element)"
      ]
    },
    {
      "cell_type": "markdown",
      "metadata": {
        "colab_type": "text",
        "id": "z8o9svv2v88a"
      },
      "source": [
        "La fonction **enumerate** est tres utile pour sortir a la fois les éléments d'une liste et leurs **index**. C'est une fonction tres utilisée en datascience"
      ]
    },
    {
      "cell_type": "code",
      "execution_count": 8,
      "metadata": {
        "colab": {
          "base_uri": "https://localhost:8080/",
          "height": 153
        },
        "colab_type": "code",
        "id": "w9t8cMPzv1Ug",
        "outputId": "579039b4-91a6-4f8a-bfcd-e9d2adee574d"
      },
      "outputs": [
        {
          "name": "stdout",
          "output_type": "stream",
          "text": [
            "0 Abidjan\n",
            "1 Agnibilékro\n",
            "2 Assinie\n",
            "3 Bouaké\n",
            "4 Danané\n",
            "5 Man\n",
            "6 San-Pedro\n",
            "7 Yamoussoukro\n"
          ]
        }
      ],
      "source": [
        "for index, element in enumerate(villes):\n",
        "  print(index, element)"
      ]
    },
    {
      "cell_type": "markdown",
      "metadata": {
        "colab_type": "text",
        "id": "r7pQ6Yl_wd-B"
      },
      "source": [
        "La fonction **zip** est aussi tres utile pour itérée a travers 2 listes en paralleles. Si une liste est plus courte que l'autre, la boucle for s'arrete a la liste la plus courte"
      ]
    },
    {
      "cell_type": "code",
      "execution_count": 9,
      "metadata": {
        "colab": {
          "base_uri": "https://localhost:8080/",
          "height": 136
        },
        "colab_type": "code",
        "id": "Ej3rTRqawN2i",
        "outputId": "48fc7aec-a096-4582-ae47-27eb0973b522"
      },
      "outputs": [
        {
          "name": "stdout",
          "output_type": "stream",
          "text": [
            "Abidjan 312\n",
            "Agnibilékro 52\n",
            "Assinie 654\n",
            "Bouaké 23\n",
            "Danané 65\n",
            "Man 12\n",
            "San-Pedro 678\n"
          ]
        }
      ],
      "source": [
        "liste_2 = [312, 52, 654, 23, 65, 12, 678]\n",
        "for element_1, element_2 in zip(villes, liste_2):\n",
        "  print(element_1, element_2)"
      ]
    },
    {
      "cell_type": "markdown",
      "metadata": {
        "colab_type": "text",
        "id": "vvjPq9a8w80t"
      },
      "source": [
        "## 4. Exercice et Solution\n",
        "Transformer le code suivant qui donne la **suite de Fibonacci** pour enregistrer les résultats dans une liste et retourner cette liste a la fin de la fonction"
      ]
    },
    {
      "cell_type": "code",
      "execution_count": 10,
      "metadata": {
        "colab": {},
        "colab_type": "code",
        "id": "XRp6AbXIwyCn"
      },
      "outputs": [],
      "source": [
        "# Exercice :\n",
        "def fibonacci(n):\n",
        "    a = 0\n",
        "    b = 1\n",
        "    while b < n:\n",
        "      a, b = b, a+b\n",
        "      print(a)\n"
      ]
    },
    {
      "cell_type": "code",
      "execution_count": 11,
      "metadata": {
        "colab": {
          "base_uri": "https://localhost:8080/",
          "height": 34
        },
        "colab_type": "code",
        "id": "_r2fVNGrxenQ",
        "outputId": "9022a5b2-1c54-441f-a453-60e709145d4c"
      },
      "outputs": [
        {
          "name": "stdout",
          "output_type": "stream",
          "text": [
            "[0, 1, 1, 2, 3, 5, 8, 13, 21, 34, 55, 89, 144, 233, 377, 610, 987]\n"
          ]
        }
      ],
      "source": [
        "# SOLUTION :\n",
        "\n",
        "def fibonacci(n):\n",
        "    a = 0\n",
        "    b = 1\n",
        "    fib = [a] # Création d'une liste fib \n",
        "    while b < n:\n",
        "        a, b = b, a+b\n",
        "        fib.append(a) # ajoute la nouvelle valeur de a a la fin de fib\n",
        "    return fib\n",
        "\n",
        "print(fibonacci(1000))"
      ]
    },
    {
      "cell_type": "code",
      "execution_count": 0,
      "metadata": {
        "colab": {},
        "colab_type": "code",
        "id": "DHS-JClnxsDx"
      },
      "outputs": [],
      "source": []
    }
  ],
  "metadata": {
    "colab": {
      "authorship_tag": "ABX9TyNJAEomf56R9Aj2AZzGRpQF",
      "collapsed_sections": [],
      "include_colab_link": true,
      "name": "Untitled4.ipynb",
      "provenance": []
    },
    "kernelspec": {
      "display_name": "base",
      "language": "python",
      "name": "python3"
    },
    "language_info": {
      "codemirror_mode": {
        "name": "ipython",
        "version": 3
      },
      "file_extension": ".py",
      "mimetype": "text/x-python",
      "name": "python",
      "nbconvert_exporter": "python",
      "pygments_lexer": "ipython3",
      "version": "3.11.5"
    }
  },
  "nbformat": 4,
  "nbformat_minor": 0
}
