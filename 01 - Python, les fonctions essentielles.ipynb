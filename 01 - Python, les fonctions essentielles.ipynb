{
 "cells": [
  {
   "cell_type": "markdown",
   "metadata": {},
   "source": [
    "# Cours de Python"
   ]
  },
  {
   "cell_type": "markdown",
   "metadata": {},
   "source": [
    "## Les fonctions essentielles "
   ]
  },
  {
   "cell_type": "markdown",
   "metadata": {},
   "source": [
    "### Numpy"
   ]
  },
  {
   "cell_type": "markdown",
   "metadata": {},
   "source": [
    "<h3> </h3>\n",
    "\n",
    "| **Commande**                     | **Description**                                               | **Paramètres**                                          | **Exemple de code**                                  |\n",
    "|----------------------------------|---------------------------------------------------------------|-------------------------------------------------------|-----------------------------------------------------|\n",
    "| `np.array()`                     | Crée un tableau à partir d'une liste.                        | `object`: Liste ou tuple à convertir.                | `tableau = np.array([1, 2, 3])`                    |\n",
    "| `np.zeros()`                     | Crée un tableau rempli de zéros.                             | `shape`: Dimensions du tableau.                       | `zeros = np.zeros((2, 3))`                          |\n",
    "| `np.ones()`                      | Crée un tableau rempli de uns.                               | `shape`: Dimensions du tableau.                       | `uns = np.ones((2, 3))`                             |\n",
    "| `np.arange()`                    | Crée un tableau avec une séquence d'entiers.                | `start`: Début, `stop`: Fin, `step`: Pas (facultatif). | `indices = np.arange(0, 10, 2)`                     |\n",
    "| `np.linspace()`                  | Crée un tableau avec des nombres régulièrement espacés.      | `start`: Début, `stop`: Fin, `num`: Nombre de valeurs. | `points = np.linspace(0, 1, 5)`                     |\n",
    "| `np.empty()`                     | Crée un tableau non initialisé.                              | `shape`: Dimensions du tableau.                       | `vide = np.empty((2, 2))`                           |\n",
    "| `np.eye()`                       | Crée une matrice identité.                                   | `N`: Taille de la matrice, `M`: (facultatif) colonnes. | `identite = np.eye(3)`                             |\n",
    "| `np.reshape()`                   | Change la forme d'un tableau.                                | `newshape`: Nouvelle forme.                           | `reforme = tableau.reshape((3, 1))`                 |\n",
    "| `np.transpose()`                 | Transpose un tableau.                                        | `a`: Tableau à transposer.                            | `transpose = tableau.T`                             |\n",
    "| `np.flatten()`                   | Aplatit un tableau en un tableau 1D.                        | `order`: (facultatif) 'C' ou 'F' (par défaut 'C').   | `applati = tableau.flatten()`                        |\n",
    "| `np.concatenate()`               | Concatène plusieurs tableaux.                                | `arrays`: Liste de tableaux, `axis`: Axe de concaténation. | `combine = np.concatenate((tableau1, tableau2))`   |\n",
    "| `np.split()`                     | Divise un tableau en plusieurs sous-tableaux.               | `ary`: Tableau à diviser, `indices_or_sections`: Indices ou nombre de sous-tableaux. | `sous_tableaux = np.split(tableau, 3)`              |\n",
    "| `np.vstack()`                    | Empile des tableaux verticalement.                           | `tup`: Tuple de tableaux à empiler.                   | `empile_vertical = np.vstack((tableau1, tableau2))` |\n",
    "| `np.hstack()`                    | Empile des tableaux horizontalement.                         | `tup`: Tuple de tableaux à empiler.                   | `empile_horizontal = np.hstack((tableau1, tableau2))` |\n",
    "| `np.where()`                     | Renvoie les indices remplissant une condition.               | `condition`: Condition à remplir, `x`: (facultatif) valeur si vrai, `y`: (facultatif) valeur si faux. | `indices = np.where(tableau > 2)`                   |\n",
    "| `np.unique()`                    | Renvoie les valeurs uniques d'un tableau.                    | `ar`: Tableau d'entrée, `return_index`: (facultatif) retourne les indices, `return_inverse`: (facultatif) retourne les indices inverses. | `valeurs_uniques = np.unique(tableau)`              |\n",
    "| `np.sum()`                       | Calcule la somme des éléments.                               | `a`: Tableau d'entrée, `axis`: (facultatif) axe le long duquel calculer. | `somme_total = np.sum(tableau)`                      |\n",
    "| `np.mean()`                      | Calcule la moyenne des éléments.                             | `a`: Tableau d'entrée, `axis`: (facultatif) axe le long duquel calculer. | `moyenne = np.mean(tableau)`                         |\n",
    "| `np.median()`                    | Calcule la médiane.                                         | `a`: Tableau d'entrée, `axis`: (facultatif) axe le long duquel calculer. | `mediane = np.median(tableau)`                       |\n",
    "| `np.std()`                       | Calcule l'écart type.                                       | `a`: Tableau d'entrée, `axis`: (facultatif) axe le long duquel calculer. | `ecart_type = np.std(tableau)`                       |\n",
    "| `np.var()`                       | Calcule la variance.                                         | `a`: Tableau d'entrée, `axis`: (facultatif) axe le long duquel calculer. | `variance = np.var(tableau)`                         |\n",
    "| `np.min()`                       | Renvoie la valeur minimale.                                  | `a`: Tableau d'entrée, `axis`: (facultatif) axe le long duquel calculer. | `valeur_min = np.min(tableau)`                       |\n",
    "| `np.max()`                       | Renvoie la valeur maximale.                                  | `a`: Tableau d'entrée, `axis`: (facultatif) axe le long duquel calculer. | `valeur_max = np.max(tableau)`                       |\n",
    "| `np.dot()`                       | Calcule le produit scalaire.                                 | `a`: Premier tableau, `b`: Deuxième tableau.         | `produit = np.dot(tableau1, tableau2)`              |\n",
    "| `np.cross()`                     | Calcule le produit vectoriel.                                | `a`: Premier vecteur, `b`: Deuxième vecteur.         | `produit_vectoriel = np.cross(vecteur1, vecteur2)`  |\n",
    "| `np.corrcoef()`                  | Calcule la matrice de corrélation.                           | `x`: Données, `rowvar`: (facultatif) si les colonnes représentent des variables. | `matrice_corr = np.corrcoef(donnees)`               |\n",
    "| `np.histogram()`                 | Calcule l'histogramme.                                      | `a`: Données, `bins`: Nombre de bacs ou leurs limites. | `hist, bins = np.histogram(donnees, bins=10)`      |\n",
    "| `np.random.rand()`               | Génère des nombres aléatoires uniformément distribués.      | `d0`, `d1`, ...: Dimensions du tableau.              | `valeurs_aleatoires = np.random.rand(5)`            |\n",
    "| `np.random.randn()`              | Génère des nombres aléatoires suivant une distribution normale. | `d0`, `d1`, ...: Dimensions du tableau.              | `valeurs_normales = np.random.randn(5)`             |\n",
    "| `np.random.randint()`            | Génère des entiers aléatoires dans un intervalle donné.     | `low`: Borne inférieure, `high`: Borne supérieure, `size`: Taille du tableau. | `entiers_aleatoires = np.random.randint(0, 10, 5)`  |\n",
    "| `np.save()`                      | Sauvegarde un tableau dans un fichier .npy.                 | `file`: Nom du fichier, `arr`: Tableau à sauvegarder. | `np.save('tableau.npy', tableau)`                    |\n",
    "| `np.load()`                      | Charge un tableau à partir d'un fichier .npy.               | `file`: Nom du fichier.                               | `tableau_charge = np.load('tableau.npy')`           |\n",
    "| `np.sqrt()`                      | Calcule la racine carrée des éléments.                       | `x`: Tableau d'entrée.                                | `racines = np.sqrt(tableau)`                         |\n",
    "| `np.exp()`                       | Calcule l'exponentielle des éléments.                        | `x`: Tableau d'entrée.                                | `exponentielles = np.exp(tableau)`                   |\n",
    "| `np.log()`                       | Calcule le logarithme naturel.                               | `x`: Tableau d'entrée.                                | `logarithmes = np.log(tableau)`                      |\n",
    "| `np.sin(), np.cos(), np.tan()`  | Calcule les fonctions trigonométriques.                     | `x`: Tableau d'entrée.                                | `valeurs_sinus = np.sin(tableau)`                    |\n",
    "| `np.any()`                       | Vérifie si au moins un élément remplit une condition.        | `condition`: Condition à vérifier.                    | `condition_remplie = np.any(tableau > 5)`           |\n",
    "| `np.all()`                       | Vérifie si tous les éléments remplissent une condition.      | `condition`: Condition à vérifier.                    | `tous_remplis = np.all(tableau < 10)`                |\n",
    "| `np.linalg.inv()`                | Calcule l'inverse d'une matrice.                            | `a`: Matrice à inverser.                              | `inverse = np.linalg.inv(matrice)`                   |\n",
    "| `np.linalg.det()`                | Calcule le déterminant d'une matrice.                        | `a`: Matrice d'entrée.                                | `determinant = np.linalg.det(matrice)`               |\n",
    "| `np.linalg.eig()`                | Calcule les valeurs et vecteurs propres d'une matrice.      | `a`: Matrice d'entrée.                                | `valeurs, vecteurs = np.linalg.eig(matrice)`        |\n",
    "| `np.append()`                    | Ajoute des éléments à un tableau.                            | `arr`: Tableau d'entrée, `values`: Valeurs à ajouter, `axis`: (facultatif) axe le long duquel ajouter. | `mis_a_jour = np.append(tableau, nouvelles_valeurs)`  |\n",
    "| `np.delete()`                    | Supprime des éléments d'un tableau.                          | `arr`: Tableau d'entrée, `obj`: Indices à supprimer, `axis`: (facultatif) axe le long duquel supprimer. | `nettoye = np.delete(tableau, index)`                |\n",
    "| `np.insert()`                    | Insère des éléments à des positions spécifiques.             | `arr`: Tableau d'entrée, `obj`: Indices où insérer, `values`: Valeurs à insérer, `axis`: (facultatif) axe le long duquel insérer. | `modifie = np.insert(tableau, index, nouvelle_valeur)` |\n",
    "| `np.dtype()`                     | Renvoie le type des éléments d'un tableau.                   | `arr`: Tableau d'entrée.                              | `type_de_donnees = tableau.dtype`                    |\n",
    "| `np.astype()`                    | Change le type des éléments d'un tableau.                    | `astype`: Type cible.                                 | `converti = tableau.astype(float)`                   |"
   ]
  },
  {
   "cell_type": "markdown",
   "metadata": {},
   "source": [
    "<h3> Générer des nombres aléatoires suivant différentes distributions :</h3>\n",
    "\n",
    "\n",
    "| Fonction                          | Description                                                | Paramètres principaux                            |\n",
    "|------------------------------------|------------------------------------------------------------|-------------------------------------------------|\n",
    "| `numpy.random.normal()`            | Distribution normale (ou gaussienne)                       | `loc` (moyenne), `scale` (écart-type), `size`   |\n",
    "| `numpy.random.uniform()`           | Distribution uniforme                                      | `low` (borne inférieure), `high` (borne supérieure), `size` |\n",
    "| `numpy.random.binomial()`          | Distribution binomiale                                     | `n` (nombre d'essais), `p` (probabilité de succès), `size` |\n",
    "| `numpy.random.poisson()`           | Distribution de Poisson                                    | `lam` (lambda, taux d'événements), `size`       |\n",
    "| `numpy.random.beta()`              | Distribution bêta                                          | `a`, `b` (paramètres de forme), `size`          |\n",
    "| `numpy.random.gamma()`             | Distribution gamma                                         | `shape` (paramètre de forme), `scale` (paramètre d'échelle), `size` |\n",
    "| `numpy.random.exponential()`       | Distribution exponentielle                                 | `scale` (inverse du taux λ), `size`             |\n",
    "| `numpy.random.chisquare()`         | Distribution du chi-carré                                  | `df` (degrés de liberté), `size`                |\n",
    "| `numpy.random.f()`                 | Distribution Fisher-Snedecor (Snedecor-F)                                | `dfnum` (degrés de liberté du numérateur), `dfden` (degrés de liberté du dénominateur), `size` |\n",
    "| `numpy.random.geometric()`         | Distribution géométrique                                   | `p` (probabilité de succès), `size`             |\n",
    "| `numpy.random.hypergeometric()`    | Distribution hypergéométrique                              | `ngood`, `nbad`, `nsample`, `size`              |\n",
    "| `numpy.random.laplace()`           | Distribution de Laplace (ou double exponentielle)           | `loc` (position), `scale` (écart-type), `size`  |\n",
    "| `numpy.random.logistic()`          | Distribution logistique                                    | `loc` (moyenne), `scale` (écart-type), `size`   |\n",
    "| `numpy.random.lognormal()`         | Distribution log-normale                                   | `mean` (moyenne), `sigma` (écart-type), `size`  |\n",
    "| `numpy.random.multinomial()`       | Distribution multinomiale                                  | `n` (nombre d'essais), `pvals` (probabilités), `size` |\n",
    "| `numpy.random.pareto()`            | Distribution de Pareto                                     | `a` (paramètre de forme), `size`                |\n",
    "| `numpy.random.triangular()`        | Distribution triangulaire                                  | `left`, `mode`, `right`, `size`                 |\n",
    "| `numpy.random.weibull()`           | Distribution de Weibull                                    | `a` (paramètre de forme), `size`                |\n",
    "| `numpy.random.vonmises()`          | Distribution de von Mises (pour des angles)                | `mu` (moyenne), `kappa` (paramètre de concentration), `size` |\n",
    "| `numpy.random.zipf()`              | Distribution de Zipf                                       | `a` (paramètre de forme), `size`                |\n"
   ]
  },
  {
   "cell_type": "markdown",
   "metadata": {},
   "source": []
  },
  {
   "cell_type": "code",
   "execution_count": null,
   "metadata": {},
   "outputs": [],
   "source": []
  },
  {
   "cell_type": "markdown",
   "metadata": {},
   "source": [
    "### Pandas"
   ]
  },
  {
   "cell_type": "markdown",
   "metadata": {},
   "source": [
    "\n",
    "| **Commande**                   | **Description**                                                | **Paramètres**                                             | **Exemple de code**                                      |\n",
    "|-------------------------------|---------------------------------------------------------------|----------------------------------------------------------|---------------------------------------------------------|\n",
    "| `pd.DataFrame()`              | Crée un DataFrame à partir de données.                       | `data`: Données, `columns`: Noms des colonnes (facultatif). | `df = pd.DataFrame(data)`                               |\n",
    "| `pd.Series()`                 | Crée une série à partir d'une liste ou d'un tableau.        | `data`: Données, `index`: Index (facultatif).            | `serie = pd.Series([1, 2, 3])`                          |\n",
    "| `df.head()`                   | Renvoie les premières lignes du DataFrame.                  | `n`: Nombre de lignes (par défaut 5).                    | `df.head(10)`                                           |\n",
    "| `df.tail()`                   | Renvoie les dernières lignes du DataFrame.                  | `n`: Nombre de lignes (par défaut 5).                    | `df.tail(10)`                                           |\n",
    "| `df.info()`                   | Affiche des informations sur le DataFrame.                  | `verbose`: (facultatif) affichage détaillé, `buf`: (facultatif) flux de sortie. | `df.info()`                                            |\n",
    "| `df.describe()`               | Fournit des statistiques descriptives.                       | `include`: (facultatif) types à inclure, `exclude`: (facultatif) types à exclure. | `df.describe()`                                        |\n",
    "| `df.shape`                    | Renvoie la forme du DataFrame (lignes, colonnes).           | -                                                        | `forme = df.shape`                                     |\n",
    "| `df.columns`                  | Renvoie les noms des colonnes.                               | -                                                        | `noms_colonnes = df.columns`                           |\n",
    "| `df.index`                    | Renvoie l'index du DataFrame.                                | -                                                        | `index = df.index`                                     |\n",
    "| `df.iloc[]`                   | Accède à des lignes et colonnes par index.                   | `row`: Index de la ligne, `col`: Index de la colonne.    | `valeur = df.iloc[0, 1]`                               |\n",
    "| `df.loc[]`                    | Accède à des lignes et colonnes par étiquette.               | `row`: Étiquette de la ligne, `col`: Étiquette de la colonne. | `valeur = df.loc['index', 'colonne']`                |\n",
    "| `df.drop()`                   | Supprime des lignes ou des colonnes.                         | `labels`: Étiquettes à supprimer, `axis`: 0 pour lignes, 1 pour colonnes. | `df = df.drop('colonne', axis=1)`                     |\n",
    "| `df.rename()`                 | Renomme des colonnes ou des index.                           | `columns`: Dictionnaire de renaming, `index`: Dictionnaire pour index. | `df.rename(columns={'ancien': 'nouveau'}, inplace=True)` |\n",
    "| `df.fillna()`                 | Remplit les valeurs manquantes.                              | `value`: Valeur à utiliser pour remplir.                 | `df.fillna(0, inplace=True)`                           |\n",
    "| `df.isnull()`                 | Renvoie un DataFrame indiquant les valeurs manquantes.      | -                                                        | `masque = df.isnull()`                                 |\n",
    "| `df.dropna()`                 | Supprime les lignes contenant des valeurs manquantes.        | `axis`: 0 pour lignes, 1 pour colonnes, `how`: 'any' ou 'all'. | `df.dropna(inplace=True)`                             |\n",
    "| `df.groupby()`                | Regroupe le DataFrame par colonnes.                          | `by`: Noms des colonnes à regrouper.                     | `groupes = df.groupby('colonne')`                      |\n",
    "| `df.agg()`                    | Applique des fonctions d'agrégation.                         | `func`: Dictionnaire ou liste de fonctions à appliquer.  | `resultat = df.agg({'colonne': 'sum'})`               |\n",
    "| `df.merge()`                  | Fusionne deux DataFrames.                                    | `right`: DataFrame à fusionner, `on`: Colonne commune, `how`: Type de fusion ('inner', 'outer', etc.). | `df_fusionne = df1.merge(df2, on='colonne')`        |\n",
    "| `df.concat()`                 | Concatène plusieurs DataFrames.                              | `objs`: Liste de DataFrames, `axis`: 0 pour lignes, 1 pour colonnes. | `df_concatene = pd.concat([df1, df2])`                |\n",
    "| `df.sort_values()`           | Trie le DataFrame par les valeurs d'une ou plusieurs colonnes. | `by`: Noms des colonnes, `ascending`: (facultatif) ordre croissant ou décroissant. | `df.sort_values(by='colonne', ascending=True)`       |\n",
    "| `df.to_csv()`                 | Sauvegarde le DataFrame dans un fichier CSV.                | `path_or_buf`: Nom du fichier, `index`: (facultatif) inclure l'index. | `df.to_csv('fichier.csv', index=False)`               |\n",
    "| `pd.read_csv()`               | Charge un DataFrame à partir d'un fichier CSV.              | `filepath_or_buffer`: Nom du fichier, `sep`: (facultatif) séparateur. | `df = pd.read_csv('fichier.csv')`                     |\n",
    "| `df.apply()`                  | Applique une fonction le long d'un axe du DataFrame.        | `func`: Fonction à appliquer, `axis`: 0 pour colonnes, 1 pour lignes. | `df['colonne'].apply(func)`                           |\n",
    "| `df.sample()`                 | Renvoie un échantillon aléatoire du DataFrame.              | `n`: Nombre d'échantillons, `frac`: (facultatif) fraction d'échantillons. | `echantillon = df.sample(n=5)`                        |\n",
    "| `df.to_numpy()`               | Convertit le DataFrame en tableau NumPy.                     | -                                                        | `tableau = df.to_numpy()`                             |\n",
    "| `df.set_index()`              | Définit une colonne comme index.                             | `keys`: Noms des colonnes à utiliser comme index, `drop`: (facultatif) supprimer les colonnes. | `df.set_index('colonne', inplace=True)`               |"
   ]
  },
  {
   "cell_type": "markdown",
   "metadata": {},
   "source": []
  },
  {
   "cell_type": "markdown",
   "metadata": {},
   "source": [
    "### Matplotlib"
   ]
  },
  {
   "cell_type": "markdown",
   "metadata": {},
   "source": [
    "\n",
    "\n",
    "| **Commande**                     | **Description**                                               | **Paramètres**                                            | **Exemple de code**                                  |\n",
    "|----------------------------------|---------------------------------------------------------------|---------------------------------------------------------|-----------------------------------------------------|\n",
    "| `plt.plot()`                     | Trace une courbe.                                           | `x`, `y`: Données pour les axes, `label`: Étiquette.   | `plt.plot(x, y, label='Courbe')`                   |\n",
    "| `plt.scatter()`                  | Trace un nuage de points.                                   | `x`, `y`: Données pour les axes, `color`: Couleur des points. | `plt.scatter(x, y, color='blue')`                  |\n",
    "| `plt.bar()`                      | Crée un diagramme à barres.                                | `x`, `height`: Données pour les axes, `width`: Largeur des barres. | `plt.bar(categories, valeurs, width=0.5)`          |\n",
    "| `plt.hist()`                     | Crée un histogramme.                                       | `x`: Données, `bins`: Nombre de classes.               | `plt.hist(donnees, bins=10)`                       |\n",
    "| `plt.boxplot()`                  | Crée un diagramme en boîte.                                | `data`: Données à représenter.                          | `plt.boxplot(donnees)`                             |\n",
    "| `plt.title()`                    | Ajoute un titre au graphique.                               | `label`: Titre à afficher.                              | `plt.title('Titre du graphique')`                   |\n",
    "| `plt.xlabel()`                   | Définit l'étiquette de l'axe des x.                        | `label`: Étiquette de l'axe.                            | `plt.xlabel('Axe X')`                              |\n",
    "| `plt.ylabel()`                   | Définit l'étiquette de l'axe des y.                        | `label`: Étiquette de l'axe.                            | `plt.ylabel('Axe Y')`                              |\n",
    "| `plt.legend()`                   | Affiche la légende du graphique.                            | `loc`: Position de la légende.                          | `plt.legend(loc='upper left')`                     |\n",
    "| `plt.grid()`                     | Affiche une grille sur le graphique.                        | `True` ou `False`: Afficher ou non la grille.          | `plt.grid(True)`                                   |\n",
    "| `plt.savefig()`                  | Sauvegarde le graphique dans un fichier.                   | `filename`: Nom du fichier, `format`: Format du fichier. | `plt.savefig('graphique.png', format='png')`      |\n",
    "| `plt.show()`                     | Affiche le graphique.                                       | Aucun paramètre.                                        | `plt.show()`                                       |\n",
    "| `plt.subplot()`                  | Crée un sous-graphique dans une grille.                   | `nrows`, `ncols`, `index`: Dimensions de la grille.    | `plt.subplot(2, 2, 1)`                             |\n",
    "| `plt.axis()`                     | Définit les limites des axes.                               | `[xmin, xmax, ymin, ymax]`: Limites des axes.          | `plt.axis([0, 10, 0, 100])`                        |\n",
    "| `plt.fill_between()`             | Remplit l'espace entre deux courbes.                        | `x`, `y1`, `y2`: Données à remplir.                     | `plt.fill_between(x, y1, y2)`                      |\n",
    "| `plt.xticks()`                   | Définit les étiquettes sur l'axe des x.                    | `ticks`, `labels`: Position et étiquettes.             | `plt.xticks([0, 1, 2], ['A', 'B', 'C'])`          |\n",
    "| `plt.yticks()`                   | Définit les étiquettes sur l'axe des y.                    | `ticks`, `labels`: Position et étiquettes.             | `plt.yticks([0, 1, 2], ['Un', 'Deux', 'Trois'])`  |\n",
    "| `plt.errorbar()`                 | Trace des points avec des barres d'erreur.                 | `x`, `y`, `yerr`: Données et erreurs.                  | `plt.errorbar(x, y, yerr=erreur)`                  |\n",
    "| `plt.imshow()`                   | Affiche une image ou une matrice sous forme de tableau.     | `image`, `cmap`: Image à afficher et palette de couleurs. | `plt.imshow(matrice, cmap='gray')`                |\n",
    "| `plt.contour()`                  | Trace des contours.                                         | `X`, `Y`, `Z`: Matrices de coordonnées et valeurs.      | `plt.contour(X, Y, Z)`                             |\n",
    "| `plt.pie()`                      | Crée un graphique en secteurs.                             | `x`, `labels`: Données et étiquettes.                  | `plt.pie(valeurs, labels=categories)`              |\n",
    "| `plt.barh()`                     | Crée un diagramme à barres horizontal.                     | `y`, `width`: Données pour les axes.                   | `plt.barh(categories, valeurs)`                     |\n",
    "| `plt.annotate()`                 | Ajoute une annotation à un point spécifique.               | `text`, `xy`, `xytext`: Texte et coordonnées.          | `plt.annotate('texte', xy=(x, y), xytext=(x_text, y_text))` |\n",
    "| `plt.tight_layout()`             | Ajuste automatiquement les paramètres du sous-graphique.   | Aucun paramètre.                                        | `plt.tight_layout()`                                |"
   ]
  },
  {
   "cell_type": "markdown",
   "metadata": {},
   "source": [
    "<h3>Seaborn</h3>\n",
    "\n",
    "| **Commande**                     | **Description**                                               | **Paramètres**                                            | **Exemple de code**                                  |\n",
    "|----------------------------------|---------------------------------------------------------------|---------------------------------------------------------|-----------------------------------------------------|\n",
    "| `sns.set()`                      | Configure les paramètres visuels de Seaborn.                | `style`: Style du graphique (ex: `'whitegrid'`).        | `sns.set(style='whitegrid')`                        |\n",
    "| `sns.scatterplot()`              | Trace un nuage de points.                                   | `x`, `y`: Colonnes pour les axes, `data`: DataFrame.   | `sns.scatterplot(x='colonne1', y='colonne2', data=df)` |\n",
    "| `sns.lineplot()`                 | Trace une courbe avec des lignes.                          | `x`, `y`, `data`, `hue`: Colonne pour la couleur.      | `sns.lineplot(x='colonne1', y='colonne2', data=df)` |\n",
    "| `sns.barplot()`                  | Crée un diagramme à barres avec des moyennes.              | `x`, `y`, `data`: Colonnes pour les axes.               | `sns.barplot(x='catégorie', y='valeur', data=df)`  |\n",
    "| `sns.countplot()`                | Crée un diagramme à barres pour compter des occurrences.    | `x`, `data`: Colonne à compter.                         | `sns.countplot(x='colonne', data=df)`               |\n",
    "| `sns.boxplot()`                  | Crée un diagramme en boîte.                                | `x`, `y`, `data`: Colonnes pour les axes.               | `sns.boxplot(x='catégorie', y='valeur', data=df)`  |\n",
    "| `sns.violinplot()`               | Crée un diagramme en violon.                               | `x`, `y`, `data`: Colonnes pour les axes.               | `sns.violinplot(x='catégorie', y='valeur', data=df)` |\n",
    "| `sns.heatmap()`                  | Crée une carte de chaleur.                                 | `data`: Matrice, `annot`: Afficher les valeurs.         | `sns.heatmap(matrice_corr, annot=True)`             |\n",
    "| `sns.pairplot()`                 | Crée une matrice de graphiques en nuages de points.       | `data`: DataFrame, `hue`: Colonne pour la couleur.     | `sns.pairplot(df)`                                   |\n",
    "| `sns.catplot()`                  | Crée des graphiques catégoriels avec des facettes.         | `x`, `y`, `kind`: Type de graphique (ex: `'bar'`).     | `sns.catplot(x='catégorie', y='valeur', kind='bar', data=df)` |\n",
    "| `sns.regplot()`                  | Trace une ligne de régression avec des points.             | `x`, `y`, `data`: Colonnes, `hue`: Couleur.            | `sns.regplot(x='colonne1', y='colonne2', data=df)` |\n",
    "| `sns.distplot()`                 | Trace la distribution d'une variable.                      | `data`, `bins`: Nombre de barres, `kde`: Densité.      | `sns.distplot(df['colonne'], bins=10, kde=True)`   |\n",
    "| `sns.kdeplot()`                  | Trace une estimation de densité.                           | `data`, `fill`: Remplir sous la courbe.                 | `sns.kdeplot(df['colonne'], fill=True)`            |\n",
    "| `sns.jointplot()`                | Crée un graphique joint de deux variables.                 | `x`, `y`, `data`: Colonnes pour les axes.              | `sns.jointplot(x='colonne1', y='colonne2', data=df)` |\n",
    "| `sns.lmplot()`                   | Trace une régression linéaire avec des facettes.          | `x`, `y`, `data`, `hue`: Colonne pour la couleur.      | `sns.lmplot(x='colonne1', y='colonne2', data=df, hue='catégorie')` |\n",
    "| `sns.rugplot()`                  | Ajoute une représentation de rug sur un graphique.         | `data`: Colonne à représenter.                          | `sns.rugplot(df['colonne'])`                        |\n",
    "| `sns.set_palette()`              | Définit la palette de couleurs.                            | `palette`: Nom de la palette (ex: `'pastel'`).         | `sns.set_palette('pastel')`                          |\n",
    "| `sns.despine()`                  | Supprime les bordures des graphiques.                     | `top`, `right`: Supprime les bordures correspondantes. | `sns.despine()`                                      |\n",
    "| `sns.mixture()`                  | Crée un graphique de mélange pour la visualisation.       | `data`, `n_components`: Nombre de composants.          | `sns.mixture(data, n_components=2)`                 |"
   ]
  },
  {
   "cell_type": "markdown",
   "metadata": {},
   "source": []
  }
 ],
 "metadata": {
  "kernelspec": {
   "display_name": "Python 3",
   "language": "python",
   "name": "python3"
  },
  "language_info": {
   "name": "python",
   "version": "3.11.7"
  }
 },
 "nbformat": 4,
 "nbformat_minor": 2
}
